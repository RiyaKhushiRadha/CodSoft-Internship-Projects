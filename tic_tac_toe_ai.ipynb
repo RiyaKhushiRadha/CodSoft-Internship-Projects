{
  "nbformat": 4,
  "nbformat_minor": 0,
  "metadata": {
    "colab": {
      "provenance": [],
      "authorship_tag": "ABX9TyN9pat8OEsIFpktWQxPxIpK",
      "include_colab_link": true
    },
    "kernelspec": {
      "name": "python3",
      "display_name": "Python 3"
    },
    "language_info": {
      "name": "python"
    }
  },
  "cells": [
    {
      "cell_type": "markdown",
      "metadata": {
        "id": "view-in-github",
        "colab_type": "text"
      },
      "source": [
        "<a href=\"https://colab.research.google.com/github/RiyaKhushiRadha/CodSoft-Internship-Projects/blob/main/tic_tac_toe_ai.ipynb\" target=\"_parent\"><img src=\"https://colab.research.google.com/assets/colab-badge.svg\" alt=\"Open In Colab\"/></a>"
      ]
    },
    {
      "cell_type": "code",
      "execution_count": null,
      "metadata": {
        "id": "qMmehZ8hgK0u"
      },
      "outputs": [],
      "source": [
        "import math"
      ]
    },
    {
      "cell_type": "code",
      "source": [
        "# Constants for players\n",
        "HUMAN = 'O'\n",
        "AI = 'X'\n",
        "EMPTY = ' '"
      ],
      "metadata": {
        "id": "Kcr7KnsEggTw"
      },
      "execution_count": null,
      "outputs": []
    },
    {
      "cell_type": "code",
      "source": [
        "# Initialize the board\n",
        "def create_board():\n",
        "    return [[EMPTY for _ in range(3)] for _ in range(3)]"
      ],
      "metadata": {
        "id": "yrcbG3LIgjCF"
      },
      "execution_count": null,
      "outputs": []
    },
    {
      "cell_type": "code",
      "source": [
        "# Print the board\n",
        "def print_board(board):\n",
        "    print(\"\\n\")\n",
        "    for row in board:\n",
        "        print(\" | \".join(row))\n",
        "        print(\"-\" * 9)\n",
        "    print(\"\\n\")"
      ],
      "metadata": {
        "id": "JtGoT-hpglr8"
      },
      "execution_count": null,
      "outputs": []
    },
    {
      "cell_type": "code",
      "source": [
        "# Check for win\n",
        "def check_winner(board, player):\n",
        "    # Check rows, columns, and diagonals\n",
        "    for i in range(3):\n",
        "        if all([cell == player for cell in board[i]]):\n",
        "            return True\n",
        "        if all([board[j][i] == player for j in range(3)]):\n",
        "            return True\n",
        "    if all([board[i][i] == player for i in range(3)]):\n",
        "        return True\n",
        "    if all([board[i][2 - i] == player for i in range(3)]):\n",
        "        return True\n",
        "    return False"
      ],
      "metadata": {
        "id": "vV4PtM6TgoYY"
      },
      "execution_count": null,
      "outputs": []
    },
    {
      "cell_type": "code",
      "source": [
        "# Check for draw\n",
        "def is_draw(board):\n",
        "    return all([cell != EMPTY for row in board for cell in row])"
      ],
      "metadata": {
        "id": "rot9J2Gmgrrc"
      },
      "execution_count": null,
      "outputs": []
    },
    {
      "cell_type": "code",
      "source": [
        "# Get available moves\n",
        "def available_moves(board):\n",
        "    moves = []\n",
        "    for i in range(3):\n",
        "        for j in range(3):\n",
        "            if board[i][j] == EMPTY:\n",
        "                moves.append((i, j))\n",
        "    return moves"
      ],
      "metadata": {
        "id": "qR-DryLIgumA"
      },
      "execution_count": null,
      "outputs": []
    },
    {
      "cell_type": "code",
      "source": [
        "# Minimax algorithm\n",
        "def minimax(board, depth, is_maximizing):\n",
        "    if check_winner(board, AI):\n",
        "        return 10 - depth\n",
        "    if check_winner(board, HUMAN):\n",
        "        return depth - 10\n",
        "    if is_draw(board):\n",
        "        return 0\n",
        "\n",
        "    if is_maximizing:\n",
        "        best_score = -math.inf\n",
        "        for (i, j) in available_moves(board):\n",
        "            board[i][j] = AI\n",
        "            score = minimax(board, depth + 1, False)\n",
        "            board[i][j] = EMPTY\n",
        "            best_score = max(score, best_score)\n",
        "        return best_score\n",
        "    else:\n",
        "        best_score = math.inf\n",
        "        for (i, j) in available_moves(board):\n",
        "            board[i][j] = HUMAN\n",
        "            score = minimax(board, depth + 1, True)\n",
        "            board[i][j] = EMPTY\n",
        "            best_score = min(score, best_score)\n",
        "        return best_score"
      ],
      "metadata": {
        "id": "gPPcyjS8gxsB"
      },
      "execution_count": null,
      "outputs": []
    },
    {
      "cell_type": "code",
      "source": [
        "# AI chooses the best move\n",
        "def best_move(board):\n",
        "    best_score = -math.inf\n",
        "    move = None\n",
        "    for (i, j) in available_moves(board):\n",
        "        board[i][j] = AI\n",
        "        score = minimax(board, 0, False)\n",
        "        board[i][j] = EMPTY\n",
        "        if score > best_score:\n",
        "            best_score = score\n",
        "            move = (i, j)\n",
        "    return move"
      ],
      "metadata": {
        "id": "cR1n8pc0hGRM"
      },
      "execution_count": null,
      "outputs": []
    },
    {
      "cell_type": "code",
      "source": [
        "# Main game loop\n",
        "def play():\n",
        "    board = create_board()\n",
        "    print(\"Welcome to Tic-Tac-Toe! You are 'O', AI is 'X'.\")\n",
        "    print_board(board)\n",
        "    while True:\n",
        "      # Human move\n",
        "        while True:\n",
        "            try:\n",
        "                row = int(input(\"Enter row (1-3): \")) - 1\n",
        "                col = int(input(\"Enter column (1-3): \")) - 1\n",
        "                if board[row][col] == EMPTY:\n",
        "                    board[row][col] = HUMAN\n",
        "                    break\n",
        "                else:\n",
        "                    print(\"Cell is not empty!\")\n",
        "            except (ValueError, IndexError):\n",
        "                print(\"Invalid input. Please enter numbers from 1 to 3.\")\n",
        "        print_board(board)\n",
        "        if check_winner(board, HUMAN):\n",
        "            print(\"You win!\")\n",
        "            break\n",
        "        if is_draw(board):\n",
        "            print(\"It's a draw!\")\n",
        "            break\n",
        "\n",
        "        # AI move\n",
        "        ai_move = best_move(board)\n",
        "        if ai_move:\n",
        "            board[ai_move[0]][ai_move[1]] = AI\n",
        "            print(\"AI played:\")\n",
        "            print_board(board)\n",
        "            if check_winner(board, AI):\n",
        "                print(\"AI wins!\")\n",
        "                break\n",
        "            if is_draw(board):\n",
        "                print(\"It's a draw!\")\n",
        "                break"
      ],
      "metadata": {
        "id": "phgYp4ethL6q"
      },
      "execution_count": null,
      "outputs": []
    },
    {
      "cell_type": "code",
      "source": [
        "if __name__ == \"__main__\":\n",
        "    play()"
      ],
      "metadata": {
        "id": "v4EGAO1FhUrN",
        "colab": {
          "base_uri": "https://localhost:8080/"
        },
        "outputId": "32e187da-4278-4b74-d1f6-baf1cd108b55"
      },
      "execution_count": null,
      "outputs": [
        {
          "output_type": "stream",
          "name": "stdout",
          "text": [
            "Welcome to Tic-Tac-Toe! You are 'O', AI is 'X'.\n",
            "\n",
            "\n",
            "  |   |  \n",
            "---------\n",
            "  |   |  \n",
            "---------\n",
            "  |   |  \n",
            "---------\n",
            "\n",
            "\n",
            "Enter row (1-3): 1\n",
            "Enter column (1-3): 3\n",
            "\n",
            "\n",
            "  |   | O\n",
            "---------\n",
            "  |   |  \n",
            "---------\n",
            "  |   |  \n",
            "---------\n",
            "\n",
            "\n",
            "AI played:\n",
            "\n",
            "\n",
            "  |   | O\n",
            "---------\n",
            "  | X |  \n",
            "---------\n",
            "  |   |  \n",
            "---------\n",
            "\n",
            "\n",
            "Enter row (1-3): 3\n",
            "Enter column (1-3): 1\n",
            "\n",
            "\n",
            "  |   | O\n",
            "---------\n",
            "  | X |  \n",
            "---------\n",
            "O |   |  \n",
            "---------\n",
            "\n",
            "\n",
            "AI played:\n",
            "\n",
            "\n",
            "  | X | O\n",
            "---------\n",
            "  | X |  \n",
            "---------\n",
            "O |   |  \n",
            "---------\n",
            "\n",
            "\n",
            "Enter row (1-3): 3\n",
            "Enter column (1-3): 3\n",
            "\n",
            "\n",
            "  | X | O\n",
            "---------\n",
            "  | X |  \n",
            "---------\n",
            "O |   | O\n",
            "---------\n",
            "\n",
            "\n",
            "AI played:\n",
            "\n",
            "\n",
            "  | X | O\n",
            "---------\n",
            "  | X |  \n",
            "---------\n",
            "O | X | O\n",
            "---------\n",
            "\n",
            "\n",
            "AI wins!\n"
          ]
        }
      ]
    }
  ]
}