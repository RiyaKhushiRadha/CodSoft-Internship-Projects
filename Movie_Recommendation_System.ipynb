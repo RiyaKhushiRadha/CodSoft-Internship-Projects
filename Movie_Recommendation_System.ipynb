{
  "nbformat": 4,
  "nbformat_minor": 0,
  "metadata": {
    "colab": {
      "provenance": [],
      "authorship_tag": "ABX9TyOoTSSVZ9IB+5I7913SYSHG",
      "include_colab_link": true
    },
    "kernelspec": {
      "name": "python3",
      "display_name": "Python 3"
    },
    "language_info": {
      "name": "python"
    }
  },
  "cells": [
    {
      "cell_type": "markdown",
      "metadata": {
        "id": "view-in-github",
        "colab_type": "text"
      },
      "source": [
        "<a href=\"https://colab.research.google.com/github/RiyaKhushiRadha/CodSoft-Internship-Projects/blob/main/Movie_Recommendation_System.ipynb\" target=\"_parent\"><img src=\"https://colab.research.google.com/assets/colab-badge.svg\" alt=\"Open In Colab\"/></a>"
      ]
    },
    {
      "cell_type": "markdown",
      "source": [
        "**Import Libraries**"
      ],
      "metadata": {
        "id": "S9FHcDDxNFH8"
      }
    },
    {
      "cell_type": "code",
      "execution_count": null,
      "metadata": {
        "id": "WakmzEbJ8_Nf"
      },
      "outputs": [],
      "source": [
        "import pandas as pd\n",
        "import numpy as np\n",
        "from sklearn.feature_extraction.text import TfidfVectorizer\n",
        "from sklearn.metrics.pairwise import linear_kernel\n",
        "from sklearn.metrics.pairwise import cosine_similarity"
      ]
    },
    {
      "cell_type": "markdown",
      "source": [
        "**Load MovieLens Dataset**"
      ],
      "metadata": {
        "id": "mK-_NDpgNMUI"
      }
    },
    {
      "cell_type": "code",
      "source": [
        "!wget http://files.grouplens.org/datasets/movielens/ml-latest-small.zip\n",
        "!unzip ml-latest-small.zip"
      ],
      "metadata": {
        "id": "956Kjivw-AQP",
        "colab": {
          "base_uri": "https://localhost:8080/"
        },
        "outputId": "37a3de6b-32e0-4db7-cd53-cef4c0773a98"
      },
      "execution_count": null,
      "outputs": [
        {
          "output_type": "stream",
          "name": "stdout",
          "text": [
            "--2025-07-29 14:23:29--  http://files.grouplens.org/datasets/movielens/ml-latest-small.zip\n",
            "Resolving files.grouplens.org (files.grouplens.org)... 128.101.65.152\n",
            "Connecting to files.grouplens.org (files.grouplens.org)|128.101.65.152|:80... connected.\n",
            "HTTP request sent, awaiting response... 200 OK\n",
            "Length: 978202 (955K) [application/zip]\n",
            "Saving to: ‘ml-latest-small.zip’\n",
            "\n",
            "ml-latest-small.zip 100%[===================>] 955.28K  --.-KB/s    in 0.1s    \n",
            "\n",
            "2025-07-29 14:23:29 (6.61 MB/s) - ‘ml-latest-small.zip’ saved [978202/978202]\n",
            "\n",
            "Archive:  ml-latest-small.zip\n",
            "   creating: ml-latest-small/\n",
            "  inflating: ml-latest-small/links.csv  \n",
            "  inflating: ml-latest-small/tags.csv  \n",
            "  inflating: ml-latest-small/ratings.csv  \n",
            "  inflating: ml-latest-small/README.txt  \n",
            "  inflating: ml-latest-small/movies.csv  \n"
          ]
        }
      ]
    },
    {
      "cell_type": "code",
      "source": [
        "# Load movie metadata\n",
        "ratings = pd.read_csv(\"ml-latest-small/ratings.csv\")\n",
        "movies = pd.read_csv(\"ml-latest-small/movies.csv\")\n",
        "\n",
        "print(\"Movies:\\n\", movies.head())\n",
        "print(\"Ratings:\\n\", ratings.head())"
      ],
      "metadata": {
        "colab": {
          "base_uri": "https://localhost:8080/"
        },
        "id": "ODY7w7tX9S4N",
        "outputId": "9cc77ace-0f4d-490a-b58b-1a2957b7c2bf"
      },
      "execution_count": null,
      "outputs": [
        {
          "output_type": "stream",
          "name": "stdout",
          "text": [
            "Movies:\n",
            "    movieId                               title  \\\n",
            "0        1                    Toy Story (1995)   \n",
            "1        2                      Jumanji (1995)   \n",
            "2        3             Grumpier Old Men (1995)   \n",
            "3        4            Waiting to Exhale (1995)   \n",
            "4        5  Father of the Bride Part II (1995)   \n",
            "\n",
            "                                        genres  \n",
            "0  Adventure|Animation|Children|Comedy|Fantasy  \n",
            "1                   Adventure|Children|Fantasy  \n",
            "2                               Comedy|Romance  \n",
            "3                         Comedy|Drama|Romance  \n",
            "4                                       Comedy  \n",
            "Ratings:\n",
            "    userId  movieId  rating  timestamp\n",
            "0       1        1     4.0  964982703\n",
            "1       1        3     4.0  964981247\n",
            "2       1        6     4.0  964982224\n",
            "3       1       47     5.0  964983815\n",
            "4       1       50     5.0  964982931\n"
          ]
        }
      ]
    },
    {
      "cell_type": "markdown",
      "source": [
        "**TF-IDF Vectorization & Cosine Similarity**"
      ],
      "metadata": {
        "id": "aF86fAdMNSXR"
      }
    },
    {
      "cell_type": "code",
      "source": [
        "# Fill any missing genres\n",
        "movies['genres'] = movies['genres'].fillna('')\n",
        "\n",
        "# TF-IDF Vectorizer on genres\n",
        "tfidf = TfidfVectorizer(stop_words='english')\n",
        "tfidf_matrix = tfidf.fit_transform(movies['genres'])\n",
        "\n",
        "# Cosine similarity matrix\n",
        "cosine_sim = linear_kernel(tfidf_matrix, tfidf_matrix)\n",
        "\n",
        "# Build index map\n",
        "indices = pd.Series(movies.index, index=movies['title']).drop_duplicates()"
      ],
      "metadata": {
        "id": "pWFHQkf8-ZGW"
      },
      "execution_count": null,
      "outputs": []
    },
    {
      "cell_type": "markdown",
      "source": [
        "**Recommendation Function (Content-Based)**"
      ],
      "metadata": {
        "id": "x0aYjNsVNYrz"
      }
    },
    {
      "cell_type": "code",
      "source": [
        "def recommend_content(title, num_recommendations=5):\n",
        "    if title not in indices:\n",
        "        return \"Movie not found!\"\n",
        "    idx = indices[title]\n",
        "    sim_scores = list(enumerate(cosine_sim[idx]))\n",
        "    sim_scores = sorted(sim_scores, key=lambda x: x[1], reverse=True)\n",
        "    sim_scores = sim_scores[1:num_recommendations+1]\n",
        "    movie_indices = [i[0] for i in sim_scores]\n",
        "    return movies['title'].iloc[movie_indices]"
      ],
      "metadata": {
        "id": "mJ1l9wMl-jso"
      },
      "execution_count": null,
      "outputs": []
    },
    {
      "cell_type": "code",
      "source": [
        "recommend_content(\"Toy Story (1995)\")"
      ],
      "metadata": {
        "colab": {
          "base_uri": "https://localhost:8080/",
          "height": 241
        },
        "id": "HetR34mp-qdE",
        "outputId": "5470f520-4827-48ec-f282-666f139848ff"
      },
      "execution_count": null,
      "outputs": [
        {
          "output_type": "execute_result",
          "data": {
            "text/plain": [
              "1706                                       Antz (1998)\n",
              "2355                                Toy Story 2 (1999)\n",
              "2809    Adventures of Rocky and Bullwinkle, The (2000)\n",
              "3000                  Emperor's New Groove, The (2000)\n",
              "3568                             Monsters, Inc. (2001)\n",
              "Name: title, dtype: object"
            ],
            "text/html": [
              "<div>\n",
              "<style scoped>\n",
              "    .dataframe tbody tr th:only-of-type {\n",
              "        vertical-align: middle;\n",
              "    }\n",
              "\n",
              "    .dataframe tbody tr th {\n",
              "        vertical-align: top;\n",
              "    }\n",
              "\n",
              "    .dataframe thead th {\n",
              "        text-align: right;\n",
              "    }\n",
              "</style>\n",
              "<table border=\"1\" class=\"dataframe\">\n",
              "  <thead>\n",
              "    <tr style=\"text-align: right;\">\n",
              "      <th></th>\n",
              "      <th>title</th>\n",
              "    </tr>\n",
              "  </thead>\n",
              "  <tbody>\n",
              "    <tr>\n",
              "      <th>1706</th>\n",
              "      <td>Antz (1998)</td>\n",
              "    </tr>\n",
              "    <tr>\n",
              "      <th>2355</th>\n",
              "      <td>Toy Story 2 (1999)</td>\n",
              "    </tr>\n",
              "    <tr>\n",
              "      <th>2809</th>\n",
              "      <td>Adventures of Rocky and Bullwinkle, The (2000)</td>\n",
              "    </tr>\n",
              "    <tr>\n",
              "      <th>3000</th>\n",
              "      <td>Emperor's New Groove, The (2000)</td>\n",
              "    </tr>\n",
              "    <tr>\n",
              "      <th>3568</th>\n",
              "      <td>Monsters, Inc. (2001)</td>\n",
              "    </tr>\n",
              "  </tbody>\n",
              "</table>\n",
              "</div><br><label><b>dtype:</b> object</label>"
            ]
          },
          "metadata": {},
          "execution_count": 6
        }
      ]
    },
    {
      "cell_type": "markdown",
      "source": [
        "**Build User-Item Matrix**"
      ],
      "metadata": {
        "id": "tbUUdLlzNa5G"
      }
    },
    {
      "cell_type": "code",
      "source": [
        "# Create user-item matrix\n",
        "user_movie_matrix = ratings.pivot(index='userId', columns='movieId', values='rating')\n",
        "user_movie_matrix.fillna(0, inplace=True)"
      ],
      "metadata": {
        "id": "gz5-TGwL-1rn"
      },
      "execution_count": null,
      "outputs": []
    },
    {
      "cell_type": "markdown",
      "source": [
        "**Compute User Similarity**"
      ],
      "metadata": {
        "id": "HjmEhY47Nj2B"
      }
    },
    {
      "cell_type": "code",
      "source": [
        "user_sim = cosine_similarity(user_movie_matrix)"
      ],
      "metadata": {
        "id": "_UZ4GkG3-54Y"
      },
      "execution_count": null,
      "outputs": []
    },
    {
      "cell_type": "markdown",
      "source": [
        "**Recommendation Function (Collaborative)**"
      ],
      "metadata": {
        "id": "P4BO4KfuNnYI"
      }
    },
    {
      "cell_type": "code",
      "source": [
        "def recommend_collaborative(user_id, num_recommendations=5):\n",
        "    if user_id not in user_movie_matrix.index:\n",
        "        return \"User not found!\"\n",
        "\n",
        "    similar_users = list(enumerate(user_sim[user_id - 1]))  # index starts from 0\n",
        "    similar_users = sorted(similar_users, key=lambda x: x[1], reverse=True)[1:]\n",
        "\n",
        "    user_ratings = user_movie_matrix.loc[user_id]\n",
        "    recommendations = {}\n",
        "\n",
        "    for other_user_idx, sim_score in similar_users[:10]:  # use top 10 similar users\n",
        "        other_user_id = other_user_idx + 1\n",
        "        other_ratings = user_movie_matrix.loc[other_user_id]\n",
        "\n",
        "        for movie_id in user_ratings.index:\n",
        "            if user_ratings[movie_id] == 0 and other_ratings[movie_id] > 0:\n",
        "                if movie_id not in recommendations:\n",
        "                    recommendations[movie_id] = sim_score * other_ratings[movie_id]\n",
        "                else:\n",
        "                    recommendations[movie_id] += sim_score * other_ratings[movie_id]\n",
        "\n",
        "    sorted_recs = sorted(recommendations.items(), key=lambda x: x[1], reverse=True)\n",
        "    top_movie_ids = [movie_id for movie_id, _ in sorted_recs[:num_recommendations]]\n",
        "    return movies[movies['movieId'].isin(top_movie_ids)]['title']"
      ],
      "metadata": {
        "id": "2ZYZJVGF--Gf"
      },
      "execution_count": null,
      "outputs": []
    },
    {
      "cell_type": "code",
      "source": [
        "recommend_collaborative(1)  # Try with userId = 1"
      ],
      "metadata": {
        "colab": {
          "base_uri": "https://localhost:8080/",
          "height": 241
        },
        "id": "fLtw3W2D_CCl",
        "outputId": "eab1b5a2-1dbf-4b4d-9131-05a27f3f4ff9"
      },
      "execution_count": null,
      "outputs": [
        {
          "output_type": "execute_result",
          "data": {
            "text/plain": [
              "507     Terminator 2: Judgment Day (1991)\n",
              "659                 Godfather, The (1972)\n",
              "902                         Aliens (1986)\n",
              "1211     Hunt for Red October, The (1990)\n",
              "2078              Sixth Sense, The (1999)\n",
              "Name: title, dtype: object"
            ],
            "text/html": [
              "<div>\n",
              "<style scoped>\n",
              "    .dataframe tbody tr th:only-of-type {\n",
              "        vertical-align: middle;\n",
              "    }\n",
              "\n",
              "    .dataframe tbody tr th {\n",
              "        vertical-align: top;\n",
              "    }\n",
              "\n",
              "    .dataframe thead th {\n",
              "        text-align: right;\n",
              "    }\n",
              "</style>\n",
              "<table border=\"1\" class=\"dataframe\">\n",
              "  <thead>\n",
              "    <tr style=\"text-align: right;\">\n",
              "      <th></th>\n",
              "      <th>title</th>\n",
              "    </tr>\n",
              "  </thead>\n",
              "  <tbody>\n",
              "    <tr>\n",
              "      <th>507</th>\n",
              "      <td>Terminator 2: Judgment Day (1991)</td>\n",
              "    </tr>\n",
              "    <tr>\n",
              "      <th>659</th>\n",
              "      <td>Godfather, The (1972)</td>\n",
              "    </tr>\n",
              "    <tr>\n",
              "      <th>902</th>\n",
              "      <td>Aliens (1986)</td>\n",
              "    </tr>\n",
              "    <tr>\n",
              "      <th>1211</th>\n",
              "      <td>Hunt for Red October, The (1990)</td>\n",
              "    </tr>\n",
              "    <tr>\n",
              "      <th>2078</th>\n",
              "      <td>Sixth Sense, The (1999)</td>\n",
              "    </tr>\n",
              "  </tbody>\n",
              "</table>\n",
              "</div><br><label><b>dtype:</b> object</label>"
            ]
          },
          "metadata": {},
          "execution_count": 10
        }
      ]
    },
    {
      "cell_type": "markdown",
      "source": [
        "**Preprocess the Genres**"
      ],
      "metadata": {
        "id": "qEP_kvOYNygg"
      }
    },
    {
      "cell_type": "code",
      "source": [
        "# Replace \"|\" with space so the genres become a string like \"Adventure Animation Children\"\n",
        "movies['genres'] = movies['genres'].str.replace('|', ' ')"
      ],
      "metadata": {
        "id": "HuTLrfq8B5_7"
      },
      "execution_count": null,
      "outputs": []
    },
    {
      "cell_type": "markdown",
      "source": [
        "**Apply TF-IDF Vectorizer on Genres**"
      ],
      "metadata": {
        "id": "Zacspqu5N2-q"
      }
    },
    {
      "cell_type": "code",
      "source": [
        "# Create TF-IDF matrix on genres\n",
        "tfidf = TfidfVectorizer(stop_words='english')\n",
        "tfidf_matrix = tfidf.fit_transform(movies['genres'])"
      ],
      "metadata": {
        "id": "jsfhV88VCA8W"
      },
      "execution_count": null,
      "outputs": []
    },
    {
      "cell_type": "markdown",
      "source": [
        "**Compute Cosine Similarity Between Movies**"
      ],
      "metadata": {
        "id": "OFbl_X_kN813"
      }
    },
    {
      "cell_type": "code",
      "source": [
        "# Compute cosine similarity (dot product) between all movie vectors\n",
        "cosine_sim = linear_kernel(tfidf_matrix, tfidf_matrix)"
      ],
      "metadata": {
        "id": "OQ4K1ponCI-a"
      },
      "execution_count": null,
      "outputs": []
    },
    {
      "cell_type": "markdown",
      "source": [
        "**Create a Movie Index Mapping**"
      ],
      "metadata": {
        "id": "FHIpSZGCOB4c"
      }
    },
    {
      "cell_type": "code",
      "source": [
        "# Create a mapping from movie title to index\n",
        "indices = pd.Series(movies.index, index=movies['title']).drop_duplicates()"
      ],
      "metadata": {
        "id": "ULuEBYz5CNCn"
      },
      "execution_count": null,
      "outputs": []
    },
    {
      "cell_type": "markdown",
      "source": [
        "**Build the Recommendation Function**"
      ],
      "metadata": {
        "id": "sN9QtbzhOHB1"
      }
    },
    {
      "cell_type": "code",
      "source": [
        "def recommend_movies_by_genre(title, num_recommendations=5):\n",
        "    if title not in indices:\n",
        "        return \"Movie not found!\"\n",
        "\n",
        "    idx = indices[title]\n",
        "\n",
        "    # Get similarity scores of all movies with this one\n",
        "    sim_scores = list(enumerate(cosine_sim[idx]))\n",
        "\n",
        "    # Sort by similarity score\n",
        "    sim_scores = sorted(sim_scores, key=lambda x: x[1], reverse=True)\n",
        "\n",
        "    # Get the scores of the top N most similar movies (skip the first one — it's the same movie)\n",
        "    sim_scores = sim_scores[1:num_recommendations + 1]\n",
        "\n",
        "    # Get the movie indices\n",
        "    movie_indices = [i[0] for i in sim_scores]\n",
        "\n",
        "    # Return the top similar movie titles\n",
        "    return movies['title'].iloc[movie_indices]"
      ],
      "metadata": {
        "id": "qv5difPMCR6D"
      },
      "execution_count": null,
      "outputs": []
    },
    {
      "cell_type": "code",
      "source": [
        "recommend_movies_by_genre(\"Toy Story (1995)\")"
      ],
      "metadata": {
        "colab": {
          "base_uri": "https://localhost:8080/",
          "height": 241
        },
        "id": "FbMgnk7kCT_h",
        "outputId": "883df860-adb0-4141-95aa-2a952648b085"
      },
      "execution_count": null,
      "outputs": [
        {
          "output_type": "execute_result",
          "data": {
            "text/plain": [
              "1706                                       Antz (1998)\n",
              "2355                                Toy Story 2 (1999)\n",
              "2809    Adventures of Rocky and Bullwinkle, The (2000)\n",
              "3000                  Emperor's New Groove, The (2000)\n",
              "3568                             Monsters, Inc. (2001)\n",
              "Name: title, dtype: object"
            ],
            "text/html": [
              "<div>\n",
              "<style scoped>\n",
              "    .dataframe tbody tr th:only-of-type {\n",
              "        vertical-align: middle;\n",
              "    }\n",
              "\n",
              "    .dataframe tbody tr th {\n",
              "        vertical-align: top;\n",
              "    }\n",
              "\n",
              "    .dataframe thead th {\n",
              "        text-align: right;\n",
              "    }\n",
              "</style>\n",
              "<table border=\"1\" class=\"dataframe\">\n",
              "  <thead>\n",
              "    <tr style=\"text-align: right;\">\n",
              "      <th></th>\n",
              "      <th>title</th>\n",
              "    </tr>\n",
              "  </thead>\n",
              "  <tbody>\n",
              "    <tr>\n",
              "      <th>1706</th>\n",
              "      <td>Antz (1998)</td>\n",
              "    </tr>\n",
              "    <tr>\n",
              "      <th>2355</th>\n",
              "      <td>Toy Story 2 (1999)</td>\n",
              "    </tr>\n",
              "    <tr>\n",
              "      <th>2809</th>\n",
              "      <td>Adventures of Rocky and Bullwinkle, The (2000)</td>\n",
              "    </tr>\n",
              "    <tr>\n",
              "      <th>3000</th>\n",
              "      <td>Emperor's New Groove, The (2000)</td>\n",
              "    </tr>\n",
              "    <tr>\n",
              "      <th>3568</th>\n",
              "      <td>Monsters, Inc. (2001)</td>\n",
              "    </tr>\n",
              "  </tbody>\n",
              "</table>\n",
              "</div><br><label><b>dtype:</b> object</label>"
            ]
          },
          "metadata": {},
          "execution_count": 16
        }
      ]
    },
    {
      "cell_type": "markdown",
      "source": [
        "**Define Function to Search by Genre**"
      ],
      "metadata": {
        "id": "xtpwfKTGONL_"
      }
    },
    {
      "cell_type": "code",
      "source": [
        "def find_movies_by_genre(genre_keyword):\n",
        "    # Convert genre to lowercase for case-insensitive search\n",
        "    genre_keyword = genre_keyword.lower()\n",
        "\n",
        "    # Filter rows where the genre contains the keyword\n",
        "    matched = movies[movies['genres'].str.lower().str.contains(genre_keyword)]\n",
        "\n",
        "    # Return only the titles\n",
        "    return matched['title'].head(20)  # show first 20 matches"
      ],
      "metadata": {
        "id": "G8HIb9xnDA1e"
      },
      "execution_count": null,
      "outputs": []
    },
    {
      "cell_type": "code",
      "source": [
        "find_movies_by_genre(\"Comedy\")"
      ],
      "metadata": {
        "colab": {
          "base_uri": "https://localhost:8080/",
          "height": 711
        },
        "id": "5z5csWhcDEFI",
        "outputId": "9d2f2f58-bb20-46fa-ee5d-7054ce179e65"
      },
      "execution_count": null,
      "outputs": [
        {
          "output_type": "execute_result",
          "data": {
            "text/plain": [
              "0                                      Toy Story (1995)\n",
              "2                               Grumpier Old Men (1995)\n",
              "3                              Waiting to Exhale (1995)\n",
              "4                    Father of the Bride Part II (1995)\n",
              "6                                        Sabrina (1995)\n",
              "10                       American President, The (1995)\n",
              "11                   Dracula: Dead and Loving It (1995)\n",
              "17                                    Four Rooms (1995)\n",
              "18                Ace Ventura: When Nature Calls (1995)\n",
              "19                                   Money Train (1995)\n",
              "20                                    Get Shorty (1995)\n",
              "34                                  It Takes Two (1995)\n",
              "35                                      Clueless (1995)\n",
              "41                                    To Die For (1995)\n",
              "47                              Mighty Aphrodite (1995)\n",
              "49                                Big Green, The (1995)\n",
              "52                    Postman, The (Postino, Il) (1994)\n",
              "56    Don't Be a Menace to South Central While Drink...\n",
              "57                                 Two if by Sea (1996)\n",
              "58                                      Bio-Dome (1996)\n",
              "Name: title, dtype: object"
            ],
            "text/html": [
              "<div>\n",
              "<style scoped>\n",
              "    .dataframe tbody tr th:only-of-type {\n",
              "        vertical-align: middle;\n",
              "    }\n",
              "\n",
              "    .dataframe tbody tr th {\n",
              "        vertical-align: top;\n",
              "    }\n",
              "\n",
              "    .dataframe thead th {\n",
              "        text-align: right;\n",
              "    }\n",
              "</style>\n",
              "<table border=\"1\" class=\"dataframe\">\n",
              "  <thead>\n",
              "    <tr style=\"text-align: right;\">\n",
              "      <th></th>\n",
              "      <th>title</th>\n",
              "    </tr>\n",
              "  </thead>\n",
              "  <tbody>\n",
              "    <tr>\n",
              "      <th>0</th>\n",
              "      <td>Toy Story (1995)</td>\n",
              "    </tr>\n",
              "    <tr>\n",
              "      <th>2</th>\n",
              "      <td>Grumpier Old Men (1995)</td>\n",
              "    </tr>\n",
              "    <tr>\n",
              "      <th>3</th>\n",
              "      <td>Waiting to Exhale (1995)</td>\n",
              "    </tr>\n",
              "    <tr>\n",
              "      <th>4</th>\n",
              "      <td>Father of the Bride Part II (1995)</td>\n",
              "    </tr>\n",
              "    <tr>\n",
              "      <th>6</th>\n",
              "      <td>Sabrina (1995)</td>\n",
              "    </tr>\n",
              "    <tr>\n",
              "      <th>10</th>\n",
              "      <td>American President, The (1995)</td>\n",
              "    </tr>\n",
              "    <tr>\n",
              "      <th>11</th>\n",
              "      <td>Dracula: Dead and Loving It (1995)</td>\n",
              "    </tr>\n",
              "    <tr>\n",
              "      <th>17</th>\n",
              "      <td>Four Rooms (1995)</td>\n",
              "    </tr>\n",
              "    <tr>\n",
              "      <th>18</th>\n",
              "      <td>Ace Ventura: When Nature Calls (1995)</td>\n",
              "    </tr>\n",
              "    <tr>\n",
              "      <th>19</th>\n",
              "      <td>Money Train (1995)</td>\n",
              "    </tr>\n",
              "    <tr>\n",
              "      <th>20</th>\n",
              "      <td>Get Shorty (1995)</td>\n",
              "    </tr>\n",
              "    <tr>\n",
              "      <th>34</th>\n",
              "      <td>It Takes Two (1995)</td>\n",
              "    </tr>\n",
              "    <tr>\n",
              "      <th>35</th>\n",
              "      <td>Clueless (1995)</td>\n",
              "    </tr>\n",
              "    <tr>\n",
              "      <th>41</th>\n",
              "      <td>To Die For (1995)</td>\n",
              "    </tr>\n",
              "    <tr>\n",
              "      <th>47</th>\n",
              "      <td>Mighty Aphrodite (1995)</td>\n",
              "    </tr>\n",
              "    <tr>\n",
              "      <th>49</th>\n",
              "      <td>Big Green, The (1995)</td>\n",
              "    </tr>\n",
              "    <tr>\n",
              "      <th>52</th>\n",
              "      <td>Postman, The (Postino, Il) (1994)</td>\n",
              "    </tr>\n",
              "    <tr>\n",
              "      <th>56</th>\n",
              "      <td>Don't Be a Menace to South Central While Drink...</td>\n",
              "    </tr>\n",
              "    <tr>\n",
              "      <th>57</th>\n",
              "      <td>Two if by Sea (1996)</td>\n",
              "    </tr>\n",
              "    <tr>\n",
              "      <th>58</th>\n",
              "      <td>Bio-Dome (1996)</td>\n",
              "    </tr>\n",
              "  </tbody>\n",
              "</table>\n",
              "</div><br><label><b>dtype:</b> object</label>"
            ]
          },
          "metadata": {},
          "execution_count": 18
        }
      ]
    },
    {
      "cell_type": "markdown",
      "source": [
        "**User Interactions**"
      ],
      "metadata": {
        "id": "iQB74WT0ORoF"
      }
    },
    {
      "cell_type": "code",
      "source": [
        "print(\"Welcome to Movie Recommendation System!!\")\n",
        "\n",
        "while True:\n",
        "\n",
        "    print(\"What would you like to do?\")\n",
        "    print(\"1. Recommend movies based on content\")\n",
        "    print(\"2. Recommend movies based on collaborative filtering\")\n",
        "    print(\"3. Find movies by genre\")\n",
        "    print(\"4. Recommend movies by same genre\")\n",
        "    print(\"5. Exit\")\n",
        "\n",
        "    choice = input(\"Enter your choice (1-5): \")\n",
        "\n",
        "    if choice not in ['1', '2', '3', '4','5']:\n",
        "        print(\"Invalid choice. Please enter a number between 1 and 4.\")\n",
        "\n",
        "    elif choice == '1':\n",
        "      title = input(\"Enter the movie title: \")\n",
        "      num_recommendations = int(input(\"Enter the number of recommendations: \"))\n",
        "      print(recommend_content(title, num_recommendations))\n",
        "\n",
        "    elif choice == '2':\n",
        "      user_id = int(input(\"Enter the user ID: \"))\n",
        "      num_recommendations = int(input(\"Enter the number of recommendations: \"))\n",
        "      print(recommend_collaborative(user_id, num_recommendations))\n",
        "\n",
        "    elif choice == '3':\n",
        "      genre_keyword = input(\"Enter the genre keyword: \")\n",
        "      print(find_movies_by_genre(genre_keyword))\n",
        "\n",
        "    elif choice == '4':\n",
        "      title = input(\"Enter the movie title: \")\n",
        "      num_recommendations = int(input(\"Enter the number of recommendations: \"))\n",
        "      print(recommend_movies_by_genre(title, num_recommendations))\n",
        "\n",
        "    elif choice == '5':\n",
        "      print(\"Thank you for using the Movie Recommendation System!\")\n",
        "      break"
      ],
      "metadata": {
        "colab": {
          "base_uri": "https://localhost:8080/"
        },
        "id": "QS3_BhiIID9P",
        "outputId": "9a01a303-4c3a-4635-846b-843de19049bc"
      },
      "execution_count": null,
      "outputs": [
        {
          "output_type": "stream",
          "name": "stdout",
          "text": [
            "Welcome to Movie Recommendation System!!\n",
            "What would you like to do?\n",
            "1. Recommend movies based on content\n",
            "2. Recommend movies based on collaborative filtering\n",
            "3. Find movies by genre\n",
            "4. Recommend movies by same genre\n",
            "5. Exit\n",
            "Enter your choice (1-5): 1\n",
            "Enter the movie title: Waiting to Exhale (1995)\n",
            "Enter the number of recommendations: 5\n",
            "10        American President, The (1995)\n",
            "47               Mighty Aphrodite (1995)\n",
            "52     Postman, The (Postino, Il) (1994)\n",
            "83                Beautiful Girls (1996)\n",
            "165       Something to Talk About (1995)\n",
            "Name: title, dtype: object\n",
            "What would you like to do?\n",
            "1. Recommend movies based on content\n",
            "2. Recommend movies based on collaborative filtering\n",
            "3. Find movies by genre\n",
            "4. Recommend movies by same genre\n",
            "5. Exit\n",
            "Enter your choice (1-5): 2\n",
            "Enter the user ID: 5\n",
            "Enter the number of recommendations: 5\n",
            "31     Twelve Monkeys (a.k.a. 12 Monkeys) (1995)\n",
            "314                          Forrest Gump (1994)\n",
            "334                                 Speed (1994)\n",
            "418                         Jurassic Park (1993)\n",
            "472                  Sleepless in Seattle (1993)\n",
            "Name: title, dtype: object\n",
            "What would you like to do?\n",
            "1. Recommend movies based on content\n",
            "2. Recommend movies based on collaborative filtering\n",
            "3. Find movies by genre\n",
            "4. Recommend movies by same genre\n",
            "5. Exit\n",
            "Enter your choice (1-5): 3\n",
            "Enter the genre keyword: comedy\n",
            "0                                      Toy Story (1995)\n",
            "2                               Grumpier Old Men (1995)\n",
            "3                              Waiting to Exhale (1995)\n",
            "4                    Father of the Bride Part II (1995)\n",
            "6                                        Sabrina (1995)\n",
            "10                       American President, The (1995)\n",
            "11                   Dracula: Dead and Loving It (1995)\n",
            "17                                    Four Rooms (1995)\n",
            "18                Ace Ventura: When Nature Calls (1995)\n",
            "19                                   Money Train (1995)\n",
            "20                                    Get Shorty (1995)\n",
            "34                                  It Takes Two (1995)\n",
            "35                                      Clueless (1995)\n",
            "41                                    To Die For (1995)\n",
            "47                              Mighty Aphrodite (1995)\n",
            "49                                Big Green, The (1995)\n",
            "52                    Postman, The (Postino, Il) (1994)\n",
            "56    Don't Be a Menace to South Central While Drink...\n",
            "57                                 Two if by Sea (1996)\n",
            "58                                      Bio-Dome (1996)\n",
            "Name: title, dtype: object\n",
            "What would you like to do?\n",
            "1. Recommend movies based on content\n",
            "2. Recommend movies based on collaborative filtering\n",
            "3. Find movies by genre\n",
            "4. Recommend movies by same genre\n",
            "5. Exit\n",
            "Enter your choice (1-5): 4\n",
            "Enter the movie title: Mighty Aphrodite (1995)\n",
            "Enter the number of recommendations: 5\n",
            "10        American President, The (1995)\n",
            "47               Mighty Aphrodite (1995)\n",
            "52     Postman, The (Postino, Il) (1994)\n",
            "83                Beautiful Girls (1996)\n",
            "165       Something to Talk About (1995)\n",
            "Name: title, dtype: object\n",
            "What would you like to do?\n",
            "1. Recommend movies based on content\n",
            "2. Recommend movies based on collaborative filtering\n",
            "3. Find movies by genre\n",
            "4. Recommend movies by same genre\n",
            "5. Exit\n",
            "Enter your choice (1-5): 5\n",
            "Thank you for using the Movie Recommendation System!\n"
          ]
        }
      ]
    }
  ]
}